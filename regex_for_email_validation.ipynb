{
  "nbformat": 4,
  "nbformat_minor": 0,
  "metadata": {
    "colab": {
      "provenance": [],
      "collapsed_sections": [],
      "authorship_tag": "ABX9TyPWmFsuEI5QUznDFEAjAV6t",
      "include_colab_link": true
    },
    "kernelspec": {
      "name": "python3",
      "display_name": "Python 3"
    },
    "language_info": {
      "name": "python"
    }
  },
  "cells": [
    {
      "cell_type": "markdown",
      "metadata": {
        "id": "view-in-github",
        "colab_type": "text"
      },
      "source": [
        "<a href=\"https://colab.research.google.com/github/kishore-R10/Registration-and-Login-system-with-Python-using-Regex-and-file-handling/blob/main/regex_for_email_validation.ipynb\" target=\"_parent\"><img src=\"https://colab.research.google.com/assets/colab-badge.svg\" alt=\"Open In Colab\"/></a>"
      ]
    },
    {
      "cell_type": "markdown",
      "source": [
        "https://docs.google.com/document/d/1Li5TiXIuQD5cygh0TAKBQoFG9a5ZAiy1/edit"
      ],
      "metadata": {
        "id": "g0UdXccGQ0sE"
      }
    },
    {
      "cell_type": "code",
      "source": [
        "#Importing all neccessary librabries\n",
        "import re\n",
        "import pandas as pd"
      ],
      "metadata": {
        "id": "Tja2Ny1nY2yO"
      },
      "execution_count": null,
      "outputs": []
    },
    {
      "cell_type": "code",
      "source": [
        "#Creating a pandas dataframe to store details.\n",
        "df = pd.DataFrame(columns = ['username','password'])"
      ],
      "metadata": {
        "id": "-Io4sL7-Y4MT"
      },
      "execution_count": null,
      "outputs": []
    },
    {
      "cell_type": "markdown",
      "source": [
        "**Functions**"
      ],
      "metadata": {
        "id": "dcjWINwy5igY"
      }
    },
    {
      "cell_type": "code",
      "source": [
        "\n",
        "#Function for mail id validation\n",
        "def mail_valid():\n",
        "  email = input('Enter ur mail id : \\n')\n",
        "  regex_email = r'\\b[A-Za-z0-9._%+-]+@[A-Za-z0-9.-]+\\.[A-Z|a-z]{2,}\\b' #regex for mailid\n",
        "  if re.fullmatch(regex_email,email):\n",
        "    i = df.loc[df['username']==email]\n",
        "\n",
        "    if i.empty:\n",
        "      print('Mail id accepted\\n')\n",
        "      return email\n",
        "    else:\n",
        "      print('This username is already taken\\n')\n",
        "      return mail_valid()  \n",
        "\n",
        "  else:\n",
        "    print('Try another id\\n')\n",
        "    return mail_valid()  \n",
        "\n",
        "#Function for password validation\n",
        "def pass_valid():\n",
        "  passR = input('Enter ur password : \\n')\n",
        "  regex_pass = r'(?=.*[a-z])(?=.*[A-Z])(?=.*\\d)(?=.*[@$!%*#?&_])[A-Za-z\\d@$!#%*?&_]{5,16}' #regex for password\n",
        "  if re.fullmatch(regex_pass,passR):\n",
        "    print('Password accepted\\n')\n",
        "    return passR\n",
        "  else:\n",
        "    print('Your password is weak\\n')\n",
        "    print('Password must have minimum one special character,one digit,one uppercase,one lowercase character (len = 5-16)\\n')\n",
        "    return pass_valid()\n",
        "\n",
        "#function for registration\n",
        "def register(df):\n",
        "  x = mail_valid()\n",
        "  y = pass_valid()\n",
        "\n",
        "  df = df.append({'username':x,'password':y},ignore_index = True) \n",
        "  return df\n",
        "\n",
        "#Function for login\n",
        "def login(df):\n",
        "\n",
        "  id = input('Enter ur mail id \\n')\n",
        "  pas = input('Enter ur password \\n')\n",
        "\n",
        "  #Checking if the Username and password exists\n",
        "  j = df.loc[(df['username']==id) & (df['password']==pas)]\n",
        "\n",
        "  if j.empty:\n",
        "    #Checking if the Username exists\n",
        "    k = df.loc[(df['username']==id) & (df['password']!=pas)]\n",
        "\n",
        "    if k.empty:\n",
        "      print('User does not exist \\n')\n",
        "      print('Pls register \\n')\n",
        "\n",
        "      return register(df)\n",
        "     \n",
        "    else:\n",
        "       print(\"Type 1 if you have forgotten your password and wish to retrive your password.\\n\")\n",
        "       print(\"Type 2 if you wish to reset your password.\\n\")\n",
        "       print(\"Type 3 if you wish to sign in again.\\n\")\n",
        "\n",
        "       typ = int(input())\n",
        "       pa = k.loc[:,\"password\"]\n",
        "       \n",
        "       if typ == 1:\n",
        "          print(\"Your password is \",pa.iloc[0])\n",
        "          print(\"\\n\")\n",
        "\n",
        "       elif typ ==2:\n",
        "         c = pass_valid()\n",
        "         df[\"password\"] = df[\"password\"].replace([pa.iloc[0]],c)\n",
        "         return df   \n",
        "    \n",
        "       elif typ == 3:\n",
        "         return login(df)\n",
        "    \n",
        "    return df\n",
        "\n",
        "  else:\n",
        "    return 'Login successful' \n",
        "  \n"
      ],
      "metadata": {
        "id": "4K3qz8ZCD-mE"
      },
      "execution_count": null,
      "outputs": []
    },
    {
      "cell_type": "markdown",
      "source": [
        "**User input**"
      ],
      "metadata": {
        "id": "8W4OwrBT5aQZ"
      }
    },
    {
      "cell_type": "code",
      "source": [
        "#Getting user input\n",
        "\n",
        "n = int(input('1-registration or 2-login : \\n'))\n",
        "\n",
        "\n",
        "#Registration\n",
        "if n == 1:\n",
        "  reg = register(df)\n",
        "  df = reg\n",
        "\n",
        "  \n",
        "#Login\n",
        "elif n == 2:\n",
        "  log = login(df)\n",
        "  if isinstance(log, pd.DataFrame):\n",
        "    df = log\n",
        "  else:\n",
        "    print(log)  \n",
        "  "
      ],
      "metadata": {
        "id": "UThW1bgA5Zsp"
      },
      "execution_count": null,
      "outputs": []
    }
  ]
}